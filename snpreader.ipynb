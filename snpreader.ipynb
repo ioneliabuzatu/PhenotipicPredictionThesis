{
 "cells": [
  {
   "cell_type": "code",
   "execution_count": 1,
   "metadata": {},
   "outputs": [],
   "source": [
    "import logging\n",
    "logging.basicConfig(level=logging.WARNING)\n",
    "\n",
    "# set figure sizes\n",
    "import pylab\n",
    "pylab.rcParams['figure.figsize'] = (10.0, 8.0)\n",
    "\n",
    "%matplotlib inline"
   ]
  },
  {
   "cell_type": "code",
   "execution_count": 8,
   "metadata": {},
   "outputs": [],
   "source": [
    "import os\n",
    "from pysnptools.snpreader import Bed\n",
    "snpreader = Bed('nogitdata/ukb_cal_chr1_v2.bed', count_A1=False)"
   ]
  },
  {
   "cell_type": "code",
   "execution_count": 9,
   "metadata": {},
   "outputs": [
    {
     "name": "stdout",
     "output_type": "stream",
     "text": [
      "Bed('nogitdata/ukb_cal_chr1_v2.bed',count_A1=False)\n"
     ]
    }
   ],
   "source": [
    "print(snpreader)"
   ]
  },
  {
   "cell_type": "code",
   "execution_count": 11,
   "metadata": {},
   "outputs": [
    {
     "name": "stdout",
     "output_type": "stream",
     "text": [
      "488377\n",
      "63487\n",
      "[[b'1505458' b'1505458']\n",
      " [b'1738124' b'1738124']\n",
      " [b'5547326' b'5547326']]\n",
      "[b'rs28659788' b'rs116587930' b'rs116720794']\n",
      "Size is: (488377, 63487)\n",
      "Bed('nogitdata/ukb_cal_chr1_v2.bed',count_A1=False)[:3,2]\n"
     ]
    }
   ],
   "source": [
    "print(snpreader.iid_count) # num of tot patients\n",
    "print(snpreader.sid_count) # num of tot snps\n",
    "print(snpreader.iid[:3])\n",
    "print(snpreader.sid[:3])\n",
    "print(\"Size is: {}\".format(snpreader.shape))\n",
    "print(snpreader[:3,2])"
   ]
  },
  {
   "cell_type": "code",
   "execution_count": 6,
   "metadata": {},
   "outputs": [],
   "source": [
    "# snpdata = snpreader.read() # read all snp data into memory"
   ]
  },
  {
   "cell_type": "code",
   "execution_count": 21,
   "metadata": {},
   "outputs": [
    {
     "data": {
      "text/plain": [
       "array([[0., 0., 0., ..., 0., 0., 1.],\n",
       "       [0., 0., 0., ..., 0., 0., 0.],\n",
       "       [0., 0., 0., ..., 0., 0., 0.],\n",
       "       [0., 0., 0., ..., 0., 0., 0.],\n",
       "       [0., 0., 0., ..., 0., 0., 0.]])"
      ]
     },
     "execution_count": 21,
     "metadata": {},
     "output_type": "execute_result"
    }
   ],
   "source": [
    "snpreader[-5:,:].read().val"
   ]
  },
  {
   "cell_type": "code",
   "execution_count": 14,
   "metadata": {},
   "outputs": [
    {
     "data": {
      "text/plain": [
       "array([[b'1505458', b'1505458'],\n",
       "       [b'1738124', b'1738124'],\n",
       "       [b'5547326', b'5547326'],\n",
       "       ...,\n",
       "       [b'2818873', b'2818873'],\n",
       "       [b'3422202', b'3422202'],\n",
       "       [b'1636497', b'1636497']], dtype='|S7')"
      ]
     },
     "execution_count": 14,
     "metadata": {},
     "output_type": "execute_result"
    }
   ],
   "source": [
    "snpreader.iid[:]"
   ]
  }
 ],
 "metadata": {
  "kernelspec": {
   "display_name": "Python 3",
   "language": "python",
   "name": "python3"
  },
  "language_info": {
   "codemirror_mode": {
    "name": "ipython",
    "version": 3
   },
   "file_extension": ".py",
   "mimetype": "text/x-python",
   "name": "python",
   "nbconvert_exporter": "python",
   "pygments_lexer": "ipython3",
   "version": "3.6.5"
  }
 },
 "nbformat": 4,
 "nbformat_minor": 2
}
